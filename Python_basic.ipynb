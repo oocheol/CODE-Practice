{
  "nbformat": 4,
  "nbformat_minor": 0,
  "metadata": {
    "colab": {
      "name": "Python basic.ipynb",
      "provenance": [],
      "collapsed_sections": [],
      "authorship_tag": "ABX9TyOVqubOurFWDxJJcMkTz1ag",
      "include_colab_link": true
    },
    "kernelspec": {
      "name": "python3",
      "display_name": "Python 3"
    },
    "language_info": {
      "name": "python"
    }
  },
  "cells": [
    {
      "cell_type": "markdown",
      "metadata": {
        "id": "view-in-github",
        "colab_type": "text"
      },
      "source": [
        "<a href=\"https://colab.research.google.com/github/oocheol/This_is_Code-test/blob/main/Python_basic.ipynb\" target=\"_parent\"><img src=\"https://colab.research.google.com/assets/colab-badge.svg\" alt=\"Open In Colab\"/></a>"
      ]
    },
    {
      "cell_type": "code",
      "metadata": {
        "colab": {
          "base_uri": "https://localhost:8080/"
        },
        "id": "4pPZh--hEb_N",
        "outputId": "de5e49bb-8b46-4eaa-cab5-536fa9972594"
      },
      "source": [
        "#리스트 컴프리헨션\n",
        "\n",
        "array = []\n",
        "for i in range(20) :\n",
        "  if i % 2 == 1 :\n",
        "    array.append(i)\n",
        "print(array)\n",
        "\n"
      ],
      "execution_count": null,
      "outputs": [
        {
          "output_type": "stream",
          "text": [
            "[1, 3, 5, 7, 9, 11, 13, 15, 17, 19]\n"
          ],
          "name": "stdout"
        }
      ]
    },
    {
      "cell_type": "code",
      "metadata": {
        "colab": {
          "base_uri": "https://localhost:8080/"
        },
        "id": "-02jAagRFphO",
        "outputId": "bf1c7c36-00df-409f-d9dd-a1eba94c29df"
      },
      "source": [
        "#문자열 반복시에는 x를 _로 생략가능\n",
        "\n",
        "for x in range(3) :\n",
        "  print(\"Hello\")\n",
        "\n",
        "print() #구분\n",
        "\n",
        "for _ in range(3) :\n",
        "  print(\"Hello\")"
      ],
      "execution_count": null,
      "outputs": [
        {
          "output_type": "stream",
          "text": [
            "Hello\n",
            "Hello\n",
            "Hello\n",
            "Hello\n",
            "Hello\n",
            "\n",
            "Hello\n",
            "Hello\n",
            "Hello\n",
            "Hello\n",
            "Hello\n"
          ],
          "name": "stdout"
        }
      ]
    },
    {
      "cell_type": "code",
      "metadata": {
        "colab": {
          "base_uri": "https://localhost:8080/"
        },
        "id": "2PZFU8x0YzYj",
        "outputId": "3a19a2b3-f949-402c-9dfe-8c3da8d1c28c"
      },
      "source": [
        "def aaa(x) :\n",
        "  return x * 3\n",
        "\n",
        "aaa(4)\n",
        "aaa(5)     #함수 return 사용시 맨 마지막 함수만 출력"
      ],
      "execution_count": 10,
      "outputs": [
        {
          "output_type": "execute_result",
          "data": {
            "text/plain": [
              "15"
            ]
          },
          "metadata": {
            "tags": []
          },
          "execution_count": 10
        }
      ]
    },
    {
      "cell_type": "code",
      "metadata": {
        "colab": {
          "base_uri": "https://localhost:8080/"
        },
        "id": "wZZzsOrmY_Pf",
        "outputId": "6af0192c-4954-4b4a-9802-b1e9d0b57d5e"
      },
      "source": [
        "def bbb(x) : print(x * 3)\n",
        "\n",
        "bbb(3)\n",
        "bbb(5) #함수 print 사용시 모든 함수 출력"
      ],
      "execution_count": 11,
      "outputs": [
        {
          "output_type": "stream",
          "text": [
            "9\n",
            "15\n"
          ],
          "name": "stdout"
        }
      ]
    },
    {
      "cell_type": "code",
      "metadata": {
        "colab": {
          "base_uri": "https://localhost:8080/"
        },
        "id": "03knSyq9ZRCv",
        "outputId": "71dea9cc-cb0e-4752-82e5-2e166892a718"
      },
      "source": [
        "score = 95\n",
        "\n",
        "if score >= 85 : print(\"good\")     #조건문 한줄로 만들기\n",
        "else : print(\"Fail\")"
      ],
      "execution_count": 8,
      "outputs": [
        {
          "output_type": "stream",
          "text": [
            "good\n"
          ],
          "name": "stdout"
        }
      ]
    },
    {
      "cell_type": "code",
      "metadata": {
        "colab": {
          "base_uri": "https://localhost:8080/"
        },
        "id": "lZrxCIvebCeH",
        "outputId": "369952ce-ed80-447a-c683-acabf6ea114f"
      },
      "source": [
        "#리스트 한줄 조건문\n",
        "\n",
        "a = [1, 2, 2, 3, 4, 5 ,5 , 5]\n",
        "r_a = [2, 5]\n",
        "\n",
        "result = [i for i in a if i not in r_a]\n",
        "\n",
        "print(result)"
      ],
      "execution_count": 13,
      "outputs": [
        {
          "output_type": "stream",
          "text": [
            "[1, 3, 4]\n"
          ],
          "name": "stdout"
        }
      ]
    }
  ]
}