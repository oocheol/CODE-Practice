{
  "nbformat": 4,
  "nbformat_minor": 0,
  "metadata": {
    "colab": {
      "name": "Python basic.ipynb",
      "provenance": [],
      "collapsed_sections": [],
      "authorship_tag": "ABX9TyPAMlpimUW3wTnpoq37o0AG",
      "include_colab_link": true
    },
    "kernelspec": {
      "name": "python3",
      "display_name": "Python 3",
      "language": "python"
    }
  },
  "cells": [
    {
      "cell_type": "markdown",
      "metadata": {
        "id": "view-in-github",
        "colab_type": "text"
      },
      "source": [
        "<a href=\"https://colab.research.google.com/github/oocheol/This_is_Code-test/blob/main/Python_basic.ipynb\" target=\"_parent\"><img src=\"https://colab.research.google.com/assets/colab-badge.svg\" alt=\"Open In Colab\"/></a>"
      ]
    },
    {
      "cell_type": "code",
      "metadata": {
        "colab": {
          "base_uri": "https://localhost:8080/"
        },
        "id": "4pPZh--hEb_N",
        "outputId": "de5e49bb-8b46-4eaa-cab5-536fa9972594"
      },
      "source": [
        "#리스트 컴프리헨션\n",
        "\n",
        "array = []\n",
        "for i in range(20) :\n",
        "  if i % 2 == 1 :\n",
        "    array.append(i)\n",
        "print(array)\n",
        "print(\"1111\")\n"
      ],
      "execution_count": 3,
      "outputs": [
        {
          "output_type": "stream",
          "name": "stdout",
          "text": [
            "[1, 3, 5, 7, 9, 11, 13, 15, 17, 19]\n1111\n"
          ]
        }
      ]
    },
    {
      "cell_type": "code",
      "metadata": {
        "colab": {
          "base_uri": "https://localhost:8080/"
        },
        "id": "-02jAagRFphO",
        "outputId": "4211aeed-4a59-430d-e8a3-33918be65637"
      },
      "source": [
        "#문자열 반복시에는 x를 _로 생략가능\n",
        "\n",
        "for x in range(3) :\n",
        "  print(\"Hello\")\n",
        "\n",
        "print() #구분\n",
        "\n",
        "for _ in range(3) :\n",
        "  print(\"Hello\")"
      ],
      "execution_count": null,
      "outputs": [
        {
          "output_type": "stream",
          "text": [
            "Hello\n",
            "Hello\n",
            "Hello\n",
            "\n",
            "Hello\n",
            "Hello\n",
            "Hello\n"
          ],
          "name": "stdout"
        }
      ]
    },
    {
      "cell_type": "code",
      "metadata": {
        "colab": {
          "base_uri": "https://localhost:8080/"
        },
        "id": "2PZFU8x0YzYj",
        "outputId": "3a19a2b3-f949-402c-9dfe-8c3da8d1c28c"
      },
      "source": [
        "def aaa(x) :\n",
        "  return x * 3\n",
        "\n",
        "aaa(4)\n",
        "aaa(5)     #함수 return 사용시 맨 마지막 함수만 출력"
      ],
      "execution_count": null,
      "outputs": [
        {
          "output_type": "execute_result",
          "data": {
            "text/plain": [
              "15"
            ]
          },
          "metadata": {
            "tags": []
          },
          "execution_count": 10
        }
      ]
    },
    {
      "cell_type": "code",
      "metadata": {
        "colab": {
          "base_uri": "https://localhost:8080/"
        },
        "id": "wZZzsOrmY_Pf",
        "outputId": "6af0192c-4954-4b4a-9802-b1e9d0b57d5e"
      },
      "source": [
        "def bbb(x) : print(x * 3)\n",
        "\n",
        "bbb(3)\n",
        "bbb(5) #함수 print 사용시 모든 함수 출력"
      ],
      "execution_count": null,
      "outputs": [
        {
          "output_type": "stream",
          "text": [
            "9\n",
            "15\n"
          ],
          "name": "stdout"
        }
      ]
    },
    {
      "cell_type": "code",
      "metadata": {
        "colab": {
          "base_uri": "https://localhost:8080/"
        },
        "id": "03knSyq9ZRCv",
        "outputId": "71dea9cc-cb0e-4752-82e5-2e166892a718"
      },
      "source": [
        "score = 95\n",
        "\n",
        "if score >= 85 : print(\"good\")     #조건문 한줄로 만들기\n",
        "else : print(\"Fail\")"
      ],
      "execution_count": null,
      "outputs": [
        {
          "output_type": "stream",
          "text": [
            "good\n"
          ],
          "name": "stdout"
        }
      ]
    },
    {
      "cell_type": "code",
      "metadata": {
        "colab": {
          "base_uri": "https://localhost:8080/"
        },
        "id": "lZrxCIvebCeH",
        "outputId": "369952ce-ed80-447a-c683-acabf6ea114f"
      },
      "source": [
        "#리스트 한줄 조건문\n",
        "\n",
        "a = [1, 2, 2, 3, 4, 5 ,5 , 5]\n",
        "r_a = [2, 5]\n",
        "\n",
        "result = [i for i in a if i not in r_a]\n",
        "\n",
        "print(result)"
      ],
      "execution_count": null,
      "outputs": [
        {
          "output_type": "stream",
          "text": [
            "[1, 3, 4]\n"
          ],
          "name": "stdout"
        }
      ]
    },
    {
      "cell_type": "code",
      "metadata": {
        "colab": {
          "base_uri": "https://localhost:8080/"
        },
        "id": "qIfjt8iBihhn",
        "outputId": "b797a344-ea29-4c0a-cc50-d312fa2767e1"
      },
      "source": [
        "print((lambda a, b : a * b)(3,4))   # lambda를 사용하여 add함수 한줄로 표현"
      ],
      "execution_count": null,
      "outputs": [
        {
          "output_type": "stream",
          "text": [
            "12\n"
          ],
          "name": "stdout"
        }
      ]
    },
    {
      "cell_type": "code",
      "metadata": {
        "colab": {
          "base_uri": "https://localhost:8080/"
        },
        "id": "8bRWfPxdi6qm",
        "outputId": "bc8fd8c0-99a1-47f8-deb1-1a7f1afdef86"
      },
      "source": [
        "# 입력을 위한 전형적인 소스코드\n",
        "# 데이터 개수 입력\n",
        "\n",
        "n = int(input())\n",
        "\n",
        "# 각 데이터를 공백으로 구분하여 입력\n",
        "\n",
        "data = list(map(int, input(\"숫자입력(공백으로 구분) : \").split()))\n",
        "\n",
        "data.sort(reverse = True)\n",
        "print(data)"
      ],
      "execution_count": null,
      "outputs": [
        {
          "output_type": "stream",
          "text": [
            "3\n",
            "숫자입력(공백으로 구분) : 22 55 32\n",
            "[55, 32, 22]\n"
          ],
          "name": "stdout"
        }
      ]
    },
    {
      "cell_type": "code",
      "metadata": {
        "colab": {
          "base_uri": "https://localhost:8080/"
        },
        "id": "nhArKgVUl63V",
        "outputId": "8ce5a812-ba22-45b3-8e0f-674ebc980a45"
      },
      "source": [
        "# 공백을 기준으로 구분하여 적은 수의 데이터 입력\n",
        "\n",
        "n, m, k = map(int, input(\"숫자입력(공백으로 구분) : \").split())\n",
        "\n",
        "print(n, m, k)"
      ],
      "execution_count": null,
      "outputs": [
        {
          "output_type": "stream",
          "text": [
            "숫자입력(공백으로 구분) : 2 7 14\n",
            "2 7 14\n"
          ],
          "name": "stdout"
        }
      ]
    },
    {
      "cell_type": "code",
      "metadata": {
        "colab": {
          "base_uri": "https://localhost:8080/"
        },
        "id": "CArwDoegm3hP",
        "outputId": "e1ff1d72-b385-4573-eb3c-87d94c76dffc"
      },
      "source": [
        "# readline() 사용 소스코드 예시\n",
        "\n",
        "import sys\n",
        "\n",
        "# 문자열 입력받기\n",
        "\n",
        "data = sys.stdin.readline().rstrip()\n",
        "print(data)\n",
        "\n",
        "##??? 아무일도 일어나지 않았다.."
      ],
      "execution_count": null,
      "outputs": [
        {
          "output_type": "stream",
          "text": [
            "\n"
          ],
          "name": "stdout"
        }
      ]
    },
    {
      "cell_type": "code",
      "metadata": {
        "id": "pTnW7uMQqbwu",
        "colab": {
          "base_uri": "https://localhost:8080/"
        },
        "outputId": "f00a3e47-b449-4104-8a95-6d050dc2da90"
      },
      "source": [
        "# eval(\"xxx\") : 수학수식이 문자열 형식으로 들어올 때 해당 수식을 계산한 결과 반환\n",
        "\n",
        "result = eval(\"(3 + 5) * 7\")\n",
        "print(result)"
      ],
      "execution_count": null,
      "outputs": [
        {
          "output_type": "stream",
          "text": [
            "56\n"
          ],
          "name": "stdout"
        }
      ]
    },
    {
      "cell_type": "code",
      "metadata": {
        "colab": {
          "base_uri": "https://localhost:8080/"
        },
        "id": "chhpPQQXJFOi",
        "outputId": "9457a8d9-38d3-495e-8c5d-464fd18b26dd"
      },
      "source": [
        "#itertools 연습1 (permutations)\n",
        "from itertools import permutations\n",
        "\n",
        "data = ['A', 'B', 'C']\n",
        "\n",
        "result = list(permutations(data, 3)) # 모든 순열 구하기\n",
        "\n",
        "print(result)"
      ],
      "execution_count": null,
      "outputs": [
        {
          "output_type": "stream",
          "text": [
            "[('A', 'B', 'C'), ('A', 'C', 'B'), ('B', 'A', 'C'), ('B', 'C', 'A'), ('C', 'A', 'B'), ('C', 'B', 'A')]\n"
          ],
          "name": "stdout"
        }
      ]
    },
    {
      "cell_type": "code",
      "metadata": {
        "colab": {
          "base_uri": "https://localhost:8080/"
        },
        "id": "fG90MrKJYkYE",
        "outputId": "ddfbcf0c-bbee-437a-b1bb-df872c82a6b3"
      },
      "source": [
        "#itertools 연습2 (combinations)\n",
        "from itertools import combinations\n",
        "\n",
        "data = ['A', 'B', 'C']\n",
        "\n",
        "result = list(combinations(data, 2)) # 2개를 뽑는 모든 조합 구하기\n",
        "\n",
        "print(result)"
      ],
      "execution_count": null,
      "outputs": [
        {
          "output_type": "stream",
          "text": [
            "[('A', 'B'), ('A', 'C'), ('B', 'C')]\n"
          ],
          "name": "stdout"
        }
      ]
    },
    {
      "cell_type": "code",
      "metadata": {
        "colab": {
          "base_uri": "https://localhost:8080/"
        },
        "id": "yJshOuqAZlW_",
        "outputId": "5e34614c-1d6c-40c6-cb4e-d23905d57aa9"
      },
      "source": [
        "#itertools 연습3 (product)\n",
        "from itertools import product\n",
        "\n",
        "data = ['A', 'B', 'C']\n",
        "\n",
        "result = list(product(data, repeat = 2)) # 2개를 뽑는 모든 순열 구하기 (중복허용)\n",
        "\n",
        "print(result)"
      ],
      "execution_count": null,
      "outputs": [
        {
          "output_type": "stream",
          "text": [
            "[('A', 'A'), ('A', 'B'), ('A', 'C'), ('B', 'A'), ('B', 'B'), ('B', 'C'), ('C', 'A'), ('C', 'B'), ('C', 'C')]\n"
          ],
          "name": "stdout"
        }
      ]
    },
    {
      "cell_type": "code",
      "metadata": {
        "colab": {
          "base_uri": "https://localhost:8080/"
        },
        "id": "URZ4eOAzcrUN",
        "outputId": "e5b7935d-6348-4f55-da36-d008997f833b"
      },
      "source": [
        "#heapq (힙)\n",
        "\n",
        "import heapq\n",
        "\n",
        "def heapsort(iterable) :\n",
        "  h = []\n",
        "  result = []\n",
        "  # 모든 원소를 차례대로 힙에 삽입\n",
        "  for value in iterable :\n",
        "    heapq.heappush(h, value)\n",
        "  # 힙에 삽입된 모든 원소를 차례대로 꺼내어 담기\n",
        "  for i in range(len(h)) :\n",
        "    result.append(heapq.heappop(h))\n",
        "  return result\n",
        "\n",
        "result = heapsort([1, 3, 5, 7 ,9, 2, 4, 6, 8, 0])\n",
        "print(result)"
      ],
      "execution_count": null,
      "outputs": [
        {
          "output_type": "stream",
          "text": [
            "[0, 1, 2, 3, 4, 5, 6, 7, 8, 9]\n"
          ],
          "name": "stdout"
        }
      ]
    },
    {
      "cell_type": "code",
      "metadata": {
        "colab": {
          "base_uri": "https://localhost:8080/"
        },
        "id": "FdyXg5xezQYh",
        "outputId": "b7417fd2-465e-4f6c-84ba-744f3509ec55"
      },
      "source": [
        "#heapq (힙) - 최대 힙\n",
        "\n",
        "import heapq\n",
        "\n",
        "def heapsort(iterable) :\n",
        "  h = []\n",
        "  result = []\n",
        "  # 모든 원소를 차례대로 힙에 삽입\n",
        "  for value in iterable :\n",
        "    heapq.heappush(h, -value)\n",
        "  # 힙에 삽입된 모든 원소를 차례대로 꺼내어 담기\n",
        "  for i in range(len(h)) :\n",
        "    result.append(-heapq.heappop(h))\n",
        "  return result\n",
        "\n",
        "result = heapsort([1, 3, 5, 7 ,9, 2, 4, 6, 8, 0])\n",
        "print(result)"
      ],
      "execution_count": null,
      "outputs": [
        {
          "output_type": "stream",
          "text": [
            "[9, 8, 7, 6, 5, 4, 3, 2, 1, 0]\n"
          ],
          "name": "stdout"
        }
      ]
    },
    {
      "cell_type": "code",
      "execution_count": 1,
      "metadata": {},
      "outputs": [
        {
          "output_type": "stream",
          "name": "stdout",
          "text": [
            "['a', 'b', 'c']\na\n"
          ]
        },
        {
          "output_type": "display_data",
          "data": {
            "text/plain": "'a'"
          },
          "metadata": {}
        }
      ],
      "source": [
        "a = ['a','b','c']\n",
        "print(a)\n",
        "def y(x) :\n",
        "  return x[0]\n",
        "\n",
        "print(y(a))\n",
        "display(y(a))"
      ]
    },
    {
      "cell_type": "code",
      "execution_count": null,
      "metadata": {},
      "outputs": [],
      "source": []
    }
  ]
}