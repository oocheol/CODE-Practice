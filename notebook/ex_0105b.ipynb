{
 "cells": [
  {
   "cell_type": "markdown",
   "metadata": {},
   "source": [
    "### GeoJSON과 Choropleth Map - 대한민국 광역시/도."
   ]
  },
  {
   "cell_type": "code",
   "execution_count": null,
   "metadata": {},
   "outputs": [],
   "source": [
    "import json                                       # json = JavaScript Object Notation.\n",
    "import pandas as pd\n",
    "import numpy as np\n",
    "import folium\n",
    "from ipywidgets import interact                   # Ineractive 시각화 기능.\n",
    "from sklearn.preprocessing import MinMaxScaler    # scikit-learn 라이브러리의 전처리 기능."
   ]
  },
  {
   "cell_type": "markdown",
   "metadata": {},
   "source": [
    "#### 1. GeoJSON 파일을 읽어와서 탐색한다:"
   ]
  },
  {
   "cell_type": "code",
   "execution_count": null,
   "metadata": {},
   "outputs": [],
   "source": [
    "# 지리정보를 담은 GeoJSON 파일을 읽어온다.\n",
    "f = open('../data/geo_korea_provinces.json', encoding='utf8')\n",
    "geo_korea_provinces = json.load(f)\n",
    "f.close()"
   ]
  },
  {
   "cell_type": "code",
   "execution_count": null,
   "metadata": {},
   "outputs": [],
   "source": [
    "# geo_korea_provinces을 한번 훑어본다.\n",
    "geo_korea_provinces"
   ]
  },
  {
   "cell_type": "code",
   "execution_count": null,
   "metadata": {
    "scrolled": true
   },
   "outputs": [],
   "source": [
    "# 광역시/도의 이름을 가져와서 본다.\n",
    "my_provinces = []\n",
    "for a_dict in geo_korea_provinces['features']:                            # List of dictionary objects.\n",
    "    my_provinces.append(a_dict['properties']['name'])           # 광역시/도.\n",
    "print(my_provinces)"
   ]
  },
  {
   "cell_type": "code",
   "execution_count": null,
   "metadata": {},
   "outputs": [],
   "source": [
    "# Geometry의 type을 출력해 본다.\n",
    "# Polygon과 MultiPolygon이 섞여 있다!\n",
    "my_geo_types  = []\n",
    "for a_dict in geo_korea_provinces['features']:                            # List of dictionary objects.\n",
    "    my_geo_types.append(a_dict['geometry']['type'])             \n",
    "print(my_geo_types)"
   ]
  },
  {
   "cell_type": "markdown",
   "metadata": {},
   "source": [
    "#### 2. Choropleth Map 생성:"
   ]
  },
  {
   "cell_type": "markdown",
   "metadata": {},
   "source": [
    "2.1. 데이터 전처리:"
   ]
  },
  {
   "cell_type": "code",
   "execution_count": null,
   "metadata": {},
   "outputs": [],
   "source": [
    "# 인구 정보 DataFrame을 읽어 온다.\n",
    "my_data = pd.read_csv(\"../data/data_provinces_population.csv\",header=\"infer\",encoding=\"utf8\")\n",
    "my_data.head(3)"
   ]
  },
  {
   "cell_type": "code",
   "execution_count": null,
   "metadata": {},
   "outputs": [],
   "source": [
    "# 인구를 로그 스케일로 변환한 새로운 column을 만들어 본다.\n",
    "my_data['인구_LOG'] = np.log(my_data['인구'])\n",
    "my_data.head(3)"
   ]
  },
  {
   "cell_type": "code",
   "execution_count": null,
   "metadata": {},
   "outputs": [],
   "source": [
    "# '시도'는 index로 들어가야 하며, 수치형 변수는 MinMaxScale 해주어야 한다.\n",
    "my_columns = ['인구','인구_LOG']\n",
    "my_scaler = MinMaxScaler()\n",
    "X_scaled = my_scaler.fit_transform(my_data[my_columns])\n",
    "my_data_scaled = pd.DataFrame(data=X_scaled, columns = my_columns, index = my_data['시도'])\n",
    "my_data_scaled.head(5)"
   ]
  },
  {
   "cell_type": "markdown",
   "metadata": {},
   "source": [
    "2.2. Choropleth Map 출력:"
   ]
  },
  {
   "cell_type": "code",
   "execution_count": null,
   "metadata": {},
   "outputs": [],
   "source": [
    "# 인구 데이터로 채색한다.\n",
    "my_map=folium.Map(location = [36.0, 127.5],  tiles=\"Stamen Toner\", zoom_start=6, width='50%', height='80%')       \n",
    "folium.Choropleth(geo_data=geo_korea_provinces,\n",
    "                  data=my_data_scaled['인구_LOG'],   # Series 또는 Dictionary. '인구' 또는 '인구_LOG' 선택.\n",
    "                  fill_opacity=0.5,\n",
    "                  fill_color = \"BuPu\",\n",
    "                  line_weight=0.5,\n",
    "                  line_color='blue',\n",
    "                  line_opacity=0.4,\n",
    "                  legend_name='Population',\n",
    "                  key_on='feature.properties.name'            \n",
    "                  ).add_to(my_map)\n",
    "my_map"
   ]
  },
  {
   "cell_type": "markdown",
   "metadata": {},
   "source": [
    "*fill_color로 가능한 값들:* <br>\n",
    "- Sequential: 'BuGn', 'BuPu','GnBu', 'OrRd', 'PuBu', 'PuBuGn', 'PuRd', 'RdPu','YlGn', 'YlGnBu','YlOrBr','YlOrRd'.\n",
    "- Diverging: 'BrBg', 'PiYG', 'PRGn', 'PuOr', 'RdBu', 'RdGy', 'RdYlBu', 'RdYlGn', 'Spectral'.\n",
    "- Qualitative: 'Accent', 'Qualitative', 'Dark2', 'Paired', 'Pastel1', 'Pastel2', 'Set1', 'Set2', 'Set3'."
   ]
  },
  {
   "cell_type": "markdown",
   "metadata": {},
   "source": [
    "#### 3. Interactive 시각화:"
   ]
  },
  {
   "cell_type": "code",
   "execution_count": null,
   "metadata": {},
   "outputs": [],
   "source": [
    "# Decorator를 사용하는 방법.\n",
    "my_columns = ['인구','인구_LOG']\n",
    "my_colors = ['BuGn', 'BuPu','GnBu', 'OrRd', 'PuBu', 'PuBuGn', 'PuRd', 'RdPu','YlGn', 'YlGnBu','YlOrBr','YlOrRd']\n",
    "\n",
    "@interact( data_column = my_columns, color = my_colors, zoom=(4,8) )\n",
    "def choropleth_map(data_column='인구', color='BuGn', zoom=6):\n",
    "    my_map=folium.Map(location = [36.0, 127.5],  tiles=\"Stamen Toner\", zoom_start=zoom, width='50%', height='80%')\n",
    "    folium.Choropleth(geo_data=geo_korea_provinces,\n",
    "                  data=my_data_scaled[data_column],      \n",
    "                  fill_opacity=0.5,\n",
    "                  fill_color=color,\n",
    "                  line_weight=0.5,\n",
    "                  line_color='orange',\n",
    "                  line_opacity=0.5,\n",
    "                  key_on='feature.properties.name' ).add_to(my_map)   # 또는 key_on='feature.properties.name'\n",
    "    return my_map"
   ]
  },
  {
   "cell_type": "code",
   "execution_count": null,
   "metadata": {},
   "outputs": [],
   "source": [
    "# 또다른 방법.\n",
    "res = interact(choropleth_map, data_column = my_columns, color = my_colors, zoom=(4,8) )"
   ]
  },
  {
   "cell_type": "code",
   "execution_count": null,
   "metadata": {},
   "outputs": [],
   "source": []
  }
 ],
 "metadata": {
  "kernelspec": {
   "display_name": "Python 3",
   "language": "python",
   "name": "python3"
  },
  "language_info": {
   "codemirror_mode": {
    "name": "ipython",
    "version": 3
   },
   "file_extension": ".py",
   "mimetype": "text/x-python",
   "name": "python",
   "nbconvert_exporter": "python",
   "pygments_lexer": "ipython3",
   "version": "3.8.8"
  }
 },
 "nbformat": 4,
 "nbformat_minor": 4
}
