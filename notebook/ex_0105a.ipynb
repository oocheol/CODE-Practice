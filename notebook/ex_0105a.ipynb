{
 "cells": [
  {
   "cell_type": "markdown",
   "metadata": {},
   "source": [
    "### GeoJSON과 Choropleth Map - 서울특별시."
   ]
  },
  {
   "cell_type": "code",
   "execution_count": null,
   "metadata": {},
   "outputs": [],
   "source": [
    "import json                                       # json = JavaScript Object Notation.\n",
    "import pandas as pd\n",
    "import folium\n",
    "from folium import plugins\n",
    "from ipywidgets import interact                   # Ineractive 시각화 기능.\n",
    "from sklearn.preprocessing import MinMaxScaler    # scikit-learn 라이브러리의 전처리 기능."
   ]
  },
  {
   "cell_type": "markdown",
   "metadata": {},
   "source": [
    "#### 1. GeoJSON 파일을 읽어와서 탐색한다:"
   ]
  },
  {
   "cell_type": "code",
   "execution_count": null,
   "metadata": {},
   "outputs": [],
   "source": [
    "# 지리정보를 담은 GeoJSON 파일을 읽어온다.\n",
    "f = open('../data/geo_seoul.json', encoding='utf8')\n",
    "geo_seoul = json.load(f)\n",
    "f.close()"
   ]
  },
  {
   "cell_type": "code",
   "execution_count": null,
   "metadata": {},
   "outputs": [],
   "source": [
    "# geo_seoul을 한번 훑어본다.\n",
    "geo_seoul"
   ]
  },
  {
   "cell_type": "code",
   "execution_count": null,
   "metadata": {
    "scrolled": true
   },
   "outputs": [],
   "source": [
    "# 구 이름을 가져와서 본다.\n",
    "my_kus = []\n",
    "for a_dict in geo_seoul['features']:                            # List of dictionary objects.\n",
    "    my_kus.append(a_dict['id'])                                 # id = 구.\n",
    "print(my_kus)"
   ]
  },
  {
   "cell_type": "code",
   "execution_count": null,
   "metadata": {},
   "outputs": [],
   "source": [
    "# Geometry의 type을 출력해 본다.\n",
    "# Polygon 유형만 있다!\n",
    "my_geo_types  = []\n",
    "for a_dict in geo_seoul['features']:                            # List of dictionary objects.\n",
    "    my_geo_types.append(a_dict['geometry']['type'])             \n",
    "print(my_geo_types)"
   ]
  },
  {
   "cell_type": "code",
   "execution_count": null,
   "metadata": {},
   "outputs": [],
   "source": [
    "# 구의 경계 좌표를 가져온다.\n",
    "my_coords =[]\n",
    "for a_dict in geo_seoul['features']:                            # List of dictionary objects.\n",
    "    my_coords.append(a_dict['geometry']['coordinates'][0])      # 구의 경계선을 가져와 본다.\n",
    "    \n",
    "# 한 개만 출력해 보는데 [경도, 위도]로 입력되어 있는 것을 확인할 수 있다.\n",
    "my_coords[0]"
   ]
  },
  {
   "cell_type": "markdown",
   "metadata": {},
   "source": [
    "#### 2. Polygon을 사용해서 구의 경계를 출력해 본다:"
   ]
  },
  {
   "cell_type": "markdown",
   "metadata": {},
   "source": [
    "**NOTE**: Geometry의 type으로 \"Polygon\"만 있으니, folium.Polygon으로 경계선을 그려본다."
   ]
  },
  {
   "cell_type": "code",
   "execution_count": null,
   "metadata": {},
   "outputs": [],
   "source": [
    "# 좌표에서 위도와 경도 위치를 서로 교환한다.\n",
    "my_coords2 = [ [ [a_lat, a_long] for (a_long, a_lat) in a_polygon ] for a_polygon in my_coords ]  \n",
    "\n",
    "# 다시 한 개만 출력해 보는데 이제는 [위도,경도]로 입력되어 있는 것을 확인할 수 있다.\n",
    "my_coords2[0]"
   ]
  },
  {
   "cell_type": "code",
   "execution_count": null,
   "metadata": {},
   "outputs": [],
   "source": [
    "# 구의 경계 좌표를 사용해서 Polygon으로 출력해 본다.\n",
    "my_map=folium.Map(location = [37.55, 127],  tiles=\"Stamen Toner\", zoom_start=10, width='50%', height='80%')\n",
    "for a_ku, a_coords in zip(my_kus, my_coords2):\n",
    "    folium.Polygon(locations=a_coords,             \n",
    "                   fill=True,\n",
    "                   fill_color='turquoise',\n",
    "                   fill_opacity=0.3,\n",
    "                   color=\"red\",\n",
    "                   weight=1,\n",
    "                   opacity=0.5,\n",
    "                   tooltip=a_ku).add_to(my_map)\n",
    "my_map"
   ]
  },
  {
   "cell_type": "markdown",
   "metadata": {},
   "source": [
    "#### 3. Choropleth Map 생성:"
   ]
  },
  {
   "cell_type": "markdown",
   "metadata": {},
   "source": [
    "3.1. 데이터 전처리:"
   ]
  },
  {
   "cell_type": "code",
   "execution_count": null,
   "metadata": {},
   "outputs": [],
   "source": [
    "# 인구 정보 DataFrame을 읽어 온다.\n",
    "my_data = pd.read_csv(\"../data/data_seoul_population.csv\",header=\"infer\",encoding=\"utf8\")\n",
    "my_data.head(3)"
   ]
  },
  {
   "cell_type": "code",
   "execution_count": null,
   "metadata": {},
   "outputs": [],
   "source": [
    "# '구'는 index로 들어가야 하며, 수치형 변수는 MinMaxScale 해주어야 한다.\n",
    "my_columns = ['세대수','인구','남자','여자']\n",
    "my_scaler = MinMaxScaler()\n",
    "X_scaled = my_scaler.fit_transform(my_data[my_columns])\n",
    "my_data_scaled = pd.DataFrame(data=X_scaled, columns = my_columns, index = my_data['구'])\n",
    "my_data_scaled.head(5)"
   ]
  },
  {
   "cell_type": "markdown",
   "metadata": {},
   "source": [
    "3.2. Choropleth Map 출력:"
   ]
  },
  {
   "cell_type": "code",
   "execution_count": null,
   "metadata": {},
   "outputs": [],
   "source": [
    "# 인구 데이터로 채색한다.\n",
    "my_map=folium.Map(location = [37.55, 127],  tiles=\"Stamen Toner\", zoom_start=10, width='50%', height='80%')       \n",
    "folium.Choropleth(geo_data=geo_seoul,\n",
    "                  data=my_data_scaled['인구'],   # Series 또는 Dictionary.\n",
    "                  fill_opacity=0.5,\n",
    "                  fill_color='BuPu',\n",
    "                  line_weight=0.5,\n",
    "                  line_color='blue',\n",
    "                  line_opacity=0.4,\n",
    "                  legend_name='Population',\n",
    "                  key_on='feature.id'            # 또는 key_on='feature.properties.name'\n",
    "                  ).add_to(my_map)\n",
    "my_map"
   ]
  },
  {
   "cell_type": "code",
   "execution_count": null,
   "metadata": {},
   "outputs": [],
   "source": [
    "# 세대수 데이터로 채색한다.\n",
    "my_map=folium.Map(location = [37.55, 127],  tiles=\"Stamen Toner\", zoom_start=10, width='50%', height='80%')\n",
    "folium.Choropleth(geo_data=geo_seoul,\n",
    "                  data=my_data_scaled['세대수'],         # Series 또는 Dictionary.\n",
    "                  fill_opacity=0.5,\n",
    "                  fill_color='YlGn',\n",
    "                  line_weight=0.5,\n",
    "                  line_color='orange',\n",
    "                  line_opacity=0.5,\n",
    "                  legend_name='Households',\n",
    "                  key_on='feature.id' ).add_to(my_map)   # 또는 key_on='feature.properties.name'\n",
    "my_map"
   ]
  },
  {
   "cell_type": "markdown",
   "metadata": {},
   "source": [
    "*fill_color로 가능한 값들:* <br>\n",
    "- Sequential: 'BuGn', 'BuPu','GnBu', 'OrRd', 'PuBu', 'PuBuGn', 'PuRd', 'RdPu','YlGn', 'YlGnBu','YlOrBr','YlOrRd'.\n",
    "- Diverging: 'BrBg', 'PiYG', 'PRGn', 'PuOr', 'RdBu', 'RdGy', 'RdYlBu', 'RdYlGn', 'Spectral'.\n",
    "- Qualitative: 'Accent', 'Qualitative', 'Dark2', 'Paired', 'Pastel1', 'Pastel2', 'Set1', 'Set2', 'Set3'."
   ]
  },
  {
   "cell_type": "markdown",
   "metadata": {},
   "source": [
    "#### 4. Interactive 시각화:"
   ]
  },
  {
   "cell_type": "code",
   "execution_count": null,
   "metadata": {},
   "outputs": [],
   "source": [
    "# Decorator를 사용하는 방법.\n",
    "my_columns = ['세대수','인구','남자','여자']\n",
    "my_colors = ['BuGn', 'BuPu','GnBu', 'OrRd', 'PuBu', 'PuBuGn', 'PuRd', 'RdPu','YlGn', 'YlGnBu','YlOrBr','YlOrRd']\n",
    "\n",
    "@interact( data_column = my_columns, color = my_colors, zoom=(8,12) )\n",
    "def choropleth_map(data_column='세대수', color='BuGn', zoom=10):\n",
    "    my_map=folium.Map(location = [37.55, 127],  tiles=\"Stamen Toner\", zoom_start=zoom, width='50%', height='80%')\n",
    "    folium.Choropleth(geo_data=geo_seoul,\n",
    "                  data=my_data_scaled[data_column],      \n",
    "                  fill_opacity=0.5,\n",
    "                  fill_color=color,\n",
    "                  line_weight=0.5,\n",
    "                  line_color='orange',\n",
    "                  line_opacity=0.5,\n",
    "                  key_on='feature.id' ).add_to(my_map)   # 또는 key_on='feature.properties.name'\n",
    "    return my_map"
   ]
  },
  {
   "cell_type": "code",
   "execution_count": null,
   "metadata": {},
   "outputs": [],
   "source": [
    "# 또다른 방법.\n",
    "res = interact(choropleth_map, data_column = my_columns, color = my_colors, zoom=(8,12) )"
   ]
  },
  {
   "cell_type": "markdown",
   "metadata": {},
   "source": [
    "#### 5. Animation:"
   ]
  },
  {
   "cell_type": "code",
   "execution_count": null,
   "metadata": {},
   "outputs": [],
   "source": [
    "# 준비.\n",
    "n_features = len(geo_seoul['features'])\n",
    "my_minutes = [ (\"0\" + str(i))[-2:] for i in range(n_features+1)]"
   ]
  },
  {
   "cell_type": "code",
   "execution_count": null,
   "metadata": {},
   "outputs": [],
   "source": [
    "# \"features\"를 다시 구성한다.\n",
    "my_features = [  {'type':'Feature', \n",
    "                   'geometry':a_feature['geometry'], \n",
    "                 'properties':{\n",
    "                 'times': [f'2021-01-01T00:{my_minutes[i]}:00', f'2021-01-01T00:{my_minutes[i+1]}:00'],\n",
    "                 'style':{ 'color':'orange', 'weight': 0.5 , 'fillColor':'blue', 'fillOpacity': my_data_scaled['세대수'][a_feature['id']]*0.8+0.1}\n",
    "                 } } for i, a_feature in zip(range(n_features) , geo_seoul['features']) ]\n",
    "#my_features[0]"
   ]
  },
  {
   "cell_type": "code",
   "execution_count": null,
   "metadata": {},
   "outputs": [],
   "source": [
    "# 출력.\n",
    "my_map=folium.Map(location = [37.55, 127],  tiles=\"Stamen Toner\", zoom_start=10, width='50%', height='80%')\n",
    "plugins.TimestampedGeoJson({\"type\": \"FeatureCollection\",\n",
    "                            \"features\" : my_features}, \n",
    "                             period=\"PT30S\").add_to(my_map)                # 주기는 조정 가능!  \n",
    "my_map"
   ]
  }
 ],
 "metadata": {
  "kernelspec": {
   "display_name": "Python 3",
   "language": "python",
   "name": "python3"
  },
  "language_info": {
   "codemirror_mode": {
    "name": "ipython",
    "version": 3
   },
   "file_extension": ".py",
   "mimetype": "text/x-python",
   "name": "python",
   "nbconvert_exporter": "python",
   "pygments_lexer": "ipython3",
   "version": "3.8.8"
  }
 },
 "nbformat": 4,
 "nbformat_minor": 4
}
