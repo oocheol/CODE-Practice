{
 "cells": [
  {
   "cell_type": "markdown",
   "metadata": {},
   "source": [
    "### Folium 기초"
   ]
  },
  {
   "cell_type": "code",
   "execution_count": null,
   "metadata": {},
   "outputs": [],
   "source": [
    "# 필요한 패키지 설치.\n",
    "#!pip install folium"
   ]
  },
  {
   "cell_type": "code",
   "execution_count": null,
   "metadata": {},
   "outputs": [],
   "source": [
    "import pandas as pd\n",
    "import numpy as np\n",
    "import folium\n",
    "from folium import plugins"
   ]
  },
  {
   "cell_type": "markdown",
   "metadata": {},
   "source": [
    "#### 1. 지도 생성 및 시각화:"
   ]
  },
  {
   "cell_type": "code",
   "execution_count": null,
   "metadata": {},
   "outputs": [],
   "source": [
    "# [위도, 경도] 좌표에 해당하는 지도를 시각화 할 수 있다.\n",
    "my_map = folium.Map(location=[35.22835136646543, 126.86179035625973])         # [위도, 경도]\n",
    "my_map"
   ]
  },
  {
   "cell_type": "code",
   "execution_count": null,
   "metadata": {},
   "outputs": [],
   "source": [
    "# 다음과 같이 저장할 수 있다.\n",
    "my_map.save(\"output.html\")"
   ]
  },
  {
   "cell_type": "markdown",
   "metadata": {},
   "source": [
    "#### 2. Tiles 적용:"
   ]
  },
  {
   "cell_type": "markdown",
   "metadata": {},
   "source": [
    "* OpenStreetMap (기본형).\n",
    "* Stamen Terrain.\n",
    "* Stamen Toner.\n",
    "* Stamen Watercolor.\n",
    "* CartoDB Positron.\n",
    "* CartoDB Dark_matter."
   ]
  },
  {
   "cell_type": "code",
   "execution_count": null,
   "metadata": {},
   "outputs": [],
   "source": [
    "# Map에 다양한 tile을 적용할 수 있다.\n",
    "# zoom_start로 시작 배율을 조정할 수 있다.\n",
    "my_map = folium.Map(location=[35.229326,126.8596891], tiles='OpenStreetMap', zoom_start=15)         # [경도, 위도]\n",
    "my_map"
   ]
  },
  {
   "cell_type": "markdown",
   "metadata": {},
   "source": [
    "#### 3. 마커 (Marker) 찍기:"
   ]
  },
  {
   "cell_type": "code",
   "execution_count": null,
   "metadata": {},
   "outputs": [],
   "source": [
    "# 기본형 마커 한 개.\n",
    "my_map = folium.Map(location=[35.229326,126.85968912], zoom_start=15, tiles='OpenStreetMap')\n",
    "my_marker = folium.Marker(location=[35.229326,126.85968912], popup='<i>Gwangju AI</i>', tooltip='We are here!')\n",
    "my_marker.add_to(my_map)     # 방법 1.\n",
    "#my_map.add_child(my_marker)  # 방법 2.\n",
    "my_map"
   ]
  },
  {
   "cell_type": "code",
   "execution_count": null,
   "metadata": {},
   "outputs": [],
   "source": [
    "# 기본형 마커 한 개.\n",
    "# html로 popup 설정.\n",
    "# tooltip 설정 가능.\n",
    "my_map = folium.Map(location=[35.229326,126.85968912], zoom_start=15, tiles='OpenStreetMap')\n",
    "folium.Marker(location=[35.229326,126.85968912], popup='<a href=\"https://aischool.likelion.net/\" target=\"_blank\">Gwangju AI</a>', tooltip='We are here!').add_to(my_map)\n",
    "my_map"
   ]
  },
  {
   "cell_type": "code",
   "execution_count": null,
   "metadata": {},
   "outputs": [],
   "source": [
    "# 기본형 마커 4 개.\n",
    "my_map = folium.Map(location=[35.229326,126.85968912], zoom_start=15, tiles='OpenStreetMap')\n",
    "folium.Marker(location=[35.229326,126.85968912], popup='<b>Hello!</b>', tooltip='A', icon=folium.Icon(color='green',icon='cloud')).add_to(my_map)\n",
    "folium.Marker(location=[35.229326,126.85968912+0.002], popup='<b>Gwangju</b>', tooltip='B', icon=folium.Icon(color='blue', icon='flag')).add_to(my_map)\n",
    "folium.Marker(location=[35.229326,126.85968912+0.004], popup='<b>AI</b>', tooltip='C', icon=folium.Icon(color='red', icon = 'info-sign')).add_to(my_map)\n",
    "folium.Marker(location=[35.229326,126.85968912+0.006], popup='<b>School</b>', tooltip='D', icon=folium.Icon(color='orange', icon = 'bookmark')).add_to(my_map)\n",
    "my_map"
   ]
  },
  {
   "cell_type": "code",
   "execution_count": null,
   "metadata": {},
   "outputs": [],
   "source": [
    "# 서클 세 개.\n",
    "my_map = folium.Map(location=[35.229326,126.85968912], zoom_start=15, tiles='OpenStreetMap')\n",
    "folium.Circle([35.229326,126.85968912], popup='<b>Hello!</b>', radius = 30, color='#FF0000', fill=False).add_to(my_map)\n",
    "folium.Circle([35.229326,126.85968912+0.002], popup='<b>Gwangju</b>', radius = 60, color='#00FF00', fill_color = '#FF00FF', fill = True).add_to(my_map)\n",
    "folium.Circle([35.229326,126.85968912+0.004], popup='<b>AI</b>', radius = 90, color = '#0000FF',fill=False).add_to(my_map)\n",
    "my_map"
   ]
  },
  {
   "cell_type": "code",
   "execution_count": null,
   "metadata": {},
   "outputs": [],
   "source": [
    "# 서클 마커 한 개.\n",
    "my_map = folium.Map(location=[35.229326,126.85968912], zoom_start=15, tiles='OpenStreetMap')\n",
    "folium.CircleMarker([35.229326,126.85968912], popup='<i>Gwangju AI</i>', radius = 50, color = '#00FF00', fill_color = '#00FF00', fill=True ).add_to(my_map)\n",
    "my_map"
   ]
  },
  {
   "cell_type": "code",
   "execution_count": null,
   "metadata": {
    "scrolled": true
   },
   "outputs": [],
   "source": [
    "# 클릭해서 새로운 마커 추가.\n",
    "# 더블 클릭해서 마커 삭제.\n",
    "my_map = folium.Map(location=[35.229326,126.85968912], zoom_start=15, tiles='OpenStreetMap')\n",
    "# folium.ClickForMarker(popup='<strong>Hello!</strong>').add_to(my_map)    # 방법 1\n",
    "my_map.add_child(folium.ClickForMarker(popup='<strong>Hello!</strong>'))   # 방법 2.\n",
    "my_map"
   ]
  },
  {
   "cell_type": "code",
   "execution_count": null,
   "metadata": {},
   "outputs": [],
   "source": [
    "# 클릭하면 위도, 경도 popup.\n",
    "my_map = folium.Map(location=[35.229326,126.85968912], zoom_start=15, tiles='OpenStreetMap')\n",
    "folium.LatLngPopup().add_to(my_map)                 # 방법 1.\n",
    "#my_map.add_child(folium.LatLngPopup())             # 방법 2.\n",
    "my_map"
   ]
  },
  {
   "cell_type": "markdown",
   "metadata": {},
   "source": [
    "#### 4. MarkerCluster와 HeatMap 사용:"
   ]
  },
  {
   "cell_type": "code",
   "execution_count": null,
   "metadata": {},
   "outputs": [],
   "source": [
    "# 데이터 가져오기.\n",
    "df = pd.read_csv('../data/data_PatientRoute.csv')"
   ]
  },
  {
   "cell_type": "code",
   "execution_count": null,
   "metadata": {},
   "outputs": [],
   "source": [
    "# 데이터 살펴보기.\n",
    "df.head()"
   ]
  },
  {
   "cell_type": "code",
   "execution_count": null,
   "metadata": {},
   "outputs": [],
   "source": [
    "# MarkerCluster 붙이기.\n",
    "my_data = df[ ['latitude', 'longitude'] ]                    # DataFrame 또는 Numpy 배열.\n",
    "my_popups = list(df['patient_id'])                           # List.\n",
    "my_map = folium.Map(location=[36.5, 128], zoom_start=7)\n",
    "plugins.MarkerCluster(locations=my_data, popups=my_popups).add_to(my_map)\n",
    "my_map"
   ]
  },
  {
   "cell_type": "code",
   "execution_count": null,
   "metadata": {},
   "outputs": [],
   "source": [
    "# HeatMap 작성.\n",
    "my_map = folium.Map(location=[36, 127], tiles='CartoDB Positron', zoom_start=7)\n",
    "plugins.HeatMap(data=my_data, min_opacity = 0.3, radius=15).add_to(my_map)  # radius 에 민감하게 반응!\n",
    "my_map"
   ]
  },
  {
   "cell_type": "code",
   "execution_count": null,
   "metadata": {},
   "outputs": [],
   "source": []
  }
 ],
 "metadata": {
  "kernelspec": {
   "display_name": "Python 3",
   "language": "python",
   "name": "python3"
  },
  "language_info": {
   "codemirror_mode": {
    "name": "ipython",
    "version": 3
   },
   "file_extension": ".py",
   "mimetype": "text/x-python",
   "name": "python",
   "nbconvert_exporter": "python",
   "pygments_lexer": "ipython3",
   "version": "3.8.8"
  }
 },
 "nbformat": 4,
 "nbformat_minor": 4
}
