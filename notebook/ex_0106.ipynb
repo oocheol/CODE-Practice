{
 "cells": [
  {
   "cell_type": "markdown",
   "id": "ed9254b3",
   "metadata": {},
   "source": [
    "### ML 예측모델 만들기 - 붓꽃"
   ]
  },
  {
   "cell_type": "code",
   "execution_count": null,
   "id": "e99d3eb0",
   "metadata": {},
   "outputs": [],
   "source": [
    "import pandas as pd\n",
    "import numpy as np\n",
    "import pickle\n",
    "from sklearn.datasets import load_iris\n",
    "from sklearn.ensemble import RandomForestClassifier\n",
    "from sklearn.preprocessing import MinMaxScaler"
   ]
  },
  {
   "cell_type": "markdown",
   "id": "93b13b05",
   "metadata": {},
   "source": [
    "#### 1. 붗꽃 데이터를 가져와서 전처리 한다:"
   ]
  },
  {
   "cell_type": "code",
   "execution_count": null,
   "id": "1c30598b",
   "metadata": {},
   "outputs": [],
   "source": [
    "# 붓꽃 데이터를 불러온다.\n",
    "my_data = load_iris()"
   ]
  },
  {
   "cell_type": "code",
   "execution_count": null,
   "id": "bc2ffcb9",
   "metadata": {},
   "outputs": [],
   "source": [
    "# Y는 그대로 받아 둔다.\n",
    "my_Y = my_data[\"target\"]\n",
    "#my_Y"
   ]
  },
  {
   "cell_type": "code",
   "execution_count": null,
   "id": "3e558de5",
   "metadata": {},
   "outputs": [],
   "source": [
    "# Y의 유형을 출력해 본다.\n",
    "my_data[\"target_names\"]"
   ]
  },
  {
   "cell_type": "code",
   "execution_count": null,
   "id": "b4c51093",
   "metadata": {},
   "outputs": [],
   "source": [
    "# 전처리.\n",
    "# X에 MinMaxScaling을 적용한다.\n",
    "my_X = my_data[\"data\"]\n",
    "my_scaler = MinMaxScaler()\n",
    "my_X = my_scaler.fit_transform(my_X)"
   ]
  },
  {
   "cell_type": "code",
   "execution_count": null,
   "id": "37757c66",
   "metadata": {},
   "outputs": [],
   "source": [
    "# Feature 이름.\n",
    "my_features_X = [\"sepal_length\", \"sepal_width\", \"petal_length\", \"petal_width\"]"
   ]
  },
  {
   "cell_type": "code",
   "execution_count": null,
   "id": "607a6140",
   "metadata": {},
   "outputs": [],
   "source": [
    "# X만으로 이루어진 데이터 프레임.\n",
    "my_df_X = pd.DataFrame(data=my_X, columns=my_features_X)\n",
    "my_df_X.head()"
   ]
  },
  {
   "cell_type": "markdown",
   "id": "f2e0f8eb",
   "metadata": {},
   "source": [
    "#### 2. ML 모델 생성과 저장:"
   ]
  },
  {
   "cell_type": "code",
   "execution_count": null,
   "id": "0788bc94",
   "metadata": {},
   "outputs": [],
   "source": [
    "# 모델을 학습 시킨다.\n",
    "my_classifier = RandomForestClassifier()\n",
    "my_classifier.fit(my_X, my_Y)"
   ]
  },
  {
   "cell_type": "code",
   "execution_count": null,
   "id": "5428d1c4",
   "metadata": {},
   "outputs": [],
   "source": [
    "# In-Sample 정확도를 계산해 본다.\n",
    "acc = (my_classifier.predict(my_X) == my_Y).mean()\n",
    "print(f\"In-sample 예측 정확도는 {acc:0.2f} 입니다.\")"
   ]
  },
  {
   "cell_type": "code",
   "execution_count": null,
   "id": "fb7c8a6f",
   "metadata": {},
   "outputs": [],
   "source": [
    "# my_classifier 객체 저장.\n",
    "with open(\"../data/my_iris_classifier.pkl\",\"wb\") as f:\n",
    "    pickle.dump(my_classifier, f)"
   ]
  },
  {
   "cell_type": "code",
   "execution_count": null,
   "id": "2a0d00ba",
   "metadata": {},
   "outputs": [],
   "source": [
    "# my_scaler 객체 저장.\n",
    "with open(\"../data/my_iris_scaler.pkl\",\"wb\") as f:\n",
    "    pickle.dump(my_scaler, f)"
   ]
  },
  {
   "cell_type": "code",
   "execution_count": null,
   "id": "a92871ba",
   "metadata": {},
   "outputs": [],
   "source": []
  }
 ],
 "metadata": {
  "kernelspec": {
   "display_name": "Python 3",
   "language": "python",
   "name": "python3"
  },
  "language_info": {
   "codemirror_mode": {
    "name": "ipython",
    "version": 3
   },
   "file_extension": ".py",
   "mimetype": "text/x-python",
   "name": "python",
   "nbconvert_exporter": "python",
   "pygments_lexer": "ipython3",
   "version": "3.8.8"
  }
 },
 "nbformat": 4,
 "nbformat_minor": 5
}
