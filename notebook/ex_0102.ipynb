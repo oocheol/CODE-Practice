{
 "cells": [
  {
   "cell_type": "markdown",
   "metadata": {},
   "source": [
    "### Seaborn 시각화  II"
   ]
  },
  {
   "cell_type": "code",
   "execution_count": null,
   "metadata": {},
   "outputs": [],
   "source": [
    "import pandas as pd\n",
    "import numpy as np\n",
    "import seaborn as sns\n",
    "import matplotlib.pyplot as plt\n",
    "%matplotlib inline"
   ]
  },
  {
   "cell_type": "markdown",
   "metadata": {},
   "source": [
    "#### 1. 산점도 행렬:"
   ]
  },
  {
   "cell_type": "code",
   "execution_count": null,
   "metadata": {},
   "outputs": [],
   "source": [
    "# 내장 데이터를 불러옴.\n",
    "df = sns.load_dataset('iris')\n",
    "df.head(5)"
   ]
  },
  {
   "cell_type": "code",
   "execution_count": null,
   "metadata": {},
   "outputs": [],
   "source": [
    "df.shape"
   ]
  },
  {
   "cell_type": "code",
   "execution_count": null,
   "metadata": {},
   "outputs": [],
   "source": [
    "#산점도 행렬\n",
    "fig = sns.pairplot(data=df, height=1.5)\n",
    "# fig.savefig(\"output.png\")"
   ]
  },
  {
   "cell_type": "code",
   "execution_count": null,
   "metadata": {},
   "outputs": [],
   "source": [
    "# species로 점의 색상 구분.\n",
    "fig = sns.pairplot(data=df, hue='species', height=1.5)\n",
    "#fig.savefig(\"output.png\")"
   ]
  },
  {
   "cell_type": "code",
   "execution_count": null,
   "metadata": {},
   "outputs": [],
   "source": [
    "# species로 점의 색상 구분. palette 적용.\n",
    "fig = sns.pairplot(data=df, hue='species', height=1.5, palette='coolwarm')\n",
    "# fig.savefig(\"output.png\")"
   ]
  },
  {
   "cell_type": "markdown",
   "metadata": {},
   "source": [
    "#### 2. 혼합 유형의 시각화 행렬:"
   ]
  },
  {
   "cell_type": "code",
   "execution_count": null,
   "metadata": {},
   "outputs": [],
   "source": [
    "# 산점도 행렬.\n",
    "g = sns.PairGrid(data=df, height=1.5)\n",
    "#fig = g.map(plt.scatter)\n",
    "fig = g.map(sns.scatterplot)\n",
    "# fig.savefig(\"output.png\")"
   ]
  },
  {
   "cell_type": "code",
   "execution_count": null,
   "metadata": {},
   "outputs": [],
   "source": [
    "# 혼합 유형 시각화 행렬.\n",
    "g = sns.PairGrid(data=df, height=1.5)\n",
    "g.map_diag(sns.histplot, color='orange')          # 대각선 = 히스토그램.\n",
    "#g.map_upper(plt.scatter, color='green')          # 위 삼각 =  산점도.\n",
    "g.map_upper(sns.scatterplot, color='green')       # 위 삼각 =  산점도.\n",
    "fig = g.map_lower(sns.kdeplot, color='blue')      # 아래 삼각 = KDE.\n",
    "# fig.savefig(\"output.png\")"
   ]
  },
  {
   "cell_type": "markdown",
   "metadata": {},
   "source": [
    "#### 3. 다중 시각화 (Facet Grid):"
   ]
  },
  {
   "cell_type": "code",
   "execution_count": null,
   "metadata": {},
   "outputs": [],
   "source": [
    "# 다중 히스토그램.\n",
    "g = sns.FacetGrid(data=df, col='species', hue='species', palette='coolwarm')\n",
    "fig = g.map(sns.histplot, 'petal_length')\n",
    "# fig.savefig(\"output.png\")"
   ]
  },
  {
   "cell_type": "code",
   "execution_count": null,
   "metadata": {},
   "outputs": [],
   "source": [
    "# 다중 히스토그램.\n",
    "g = sns.FacetGrid(data=df, row='species', hue='species' )\n",
    "fig = g.map(sns.histplot, 'petal_length')\n",
    "# fig.savefig(\"output.png\")"
   ]
  },
  {
   "cell_type": "code",
   "execution_count": null,
   "metadata": {},
   "outputs": [],
   "source": [
    "# 다중 산점도.\n",
    "g = sns.FacetGrid(data=df ,col='species' , hue='species')\n",
    "#fig = g.map(plt.scatter, 'petal_length', 'petal_width')\n",
    "fig = g.map(sns.scatterplot, 'petal_length', 'petal_width')\n",
    "# fig.savefig(\"output.png\")"
   ]
  },
  {
   "cell_type": "markdown",
   "metadata": {},
   "source": [
    "#### 4. 행렬의 시각화 (Heat Map):"
   ]
  },
  {
   "cell_type": "code",
   "execution_count": null,
   "metadata": {},
   "outputs": [],
   "source": [
    "# mpg 데이터를 불러온다. \n",
    "df = sns.load_dataset('mpg')\n",
    "x = df.corr()\n",
    "x"
   ]
  },
  {
   "cell_type": "code",
   "execution_count": null,
   "metadata": {},
   "outputs": [],
   "source": [
    "# Heatmap 디폴트.\n",
    "fig = sns.heatmap(data=x)\n",
    "# fig.figure.savefig(\"output.png\")"
   ]
  },
  {
   "cell_type": "code",
   "execution_count": null,
   "metadata": {},
   "outputs": [],
   "source": [
    "# Heatmap.\n",
    "# palette 대신에 cmap을 정해준다.\n",
    "fig = sns.heatmap(data=x, cmap='coolwarm')\n",
    "# fig.figure.savefig(\"output.png\")"
   ]
  },
  {
   "cell_type": "code",
   "execution_count": null,
   "metadata": {},
   "outputs": [],
   "source": [
    "# Heatmap.\n",
    "# 중심 위치를 정해준다 (디폴트 = 0).\n",
    "fig = sns.heatmap(data=x, cmap='coolwarm', center=-1)\n",
    "# fig.figure.savefig(\"output.png\")"
   ]
  },
  {
   "cell_type": "code",
   "execution_count": null,
   "metadata": {},
   "outputs": [],
   "source": []
  }
 ],
 "metadata": {
  "kernelspec": {
   "display_name": "Python 3",
   "language": "python",
   "name": "python3"
  },
  "language_info": {
   "codemirror_mode": {
    "name": "ipython",
    "version": 3
   },
   "file_extension": ".py",
   "mimetype": "text/x-python",
   "name": "python",
   "nbconvert_exporter": "python",
   "pygments_lexer": "ipython3",
   "version": "3.8.8"
  }
 },
 "nbformat": 4,
 "nbformat_minor": 2
}
