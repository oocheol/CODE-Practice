{
 "cells": [
  {
   "cell_type": "markdown",
   "metadata": {},
   "source": [
    "### Seaborn 시각화 III"
   ]
  },
  {
   "cell_type": "code",
   "execution_count": null,
   "metadata": {},
   "outputs": [],
   "source": [
    "import pandas as pd\n",
    "import numpy as np\n",
    "import seaborn as sns\n",
    "import matplotlib.pyplot as plt\n",
    "%matplotlib inline "
   ]
  },
  {
   "cell_type": "markdown",
   "metadata": {},
   "source": [
    "#### 1. 산점도 + 회귀선 lmplot:"
   ]
  },
  {
   "cell_type": "code",
   "execution_count": null,
   "metadata": {},
   "outputs": [],
   "source": [
    "# 내장 데이터를 불러옴.\n",
    "df = sns.load_dataset('mpg')\n",
    "df.head(5)"
   ]
  },
  {
   "cell_type": "code",
   "execution_count": null,
   "metadata": {},
   "outputs": [],
   "source": [
    "# 산점도 + 회귀선 \n",
    "#fig = sns.jointplot(data = df, x='weight', y='mpg', kind='reg')  # 비교 용도.\n",
    "fig = sns.lmplot(data=df, x='weight', y='mpg')\n",
    "# fig.savefig(\"output.png\")"
   ]
  },
  {
   "cell_type": "code",
   "execution_count": null,
   "metadata": {},
   "outputs": [],
   "source": [
    "# 산점도 + 회귀선. \n",
    "# 하나의 패널에 유형별 시각화.\n",
    "fig = sns.lmplot(data=df, x='weight', y='mpg', hue='origin', markers=['o','^','v'])\n",
    "# fig.savefig(\"output.png\")"
   ]
  },
  {
   "cell_type": "code",
   "execution_count": null,
   "metadata": {},
   "outputs": [],
   "source": [
    "# 산점도 + 회귀선. \n",
    "# 다중 시각화.\n",
    "fig = sns.lmplot(data=df, x='weight', y='mpg', col='origin' , hue='origin')\n",
    "# fig.savefig(\"output.png\")"
   ]
  },
  {
   "cell_type": "code",
   "execution_count": null,
   "metadata": {},
   "outputs": [],
   "source": [
    "# 산점도 + 회귀선.\n",
    "# 다중 시각화. \n",
    "fig=sns.lmplot(data=df, x='weight', y='mpg', col='origin', hue='origin', markers=['o','v','^'])\n",
    "# fig.savefig(\"output.png\")"
   ]
  },
  {
   "cell_type": "code",
   "execution_count": null,
   "metadata": {},
   "outputs": [],
   "source": [
    "# 산점도 + 회귀선.\n",
    "# 다중 시각화. \n",
    "# 패널의 비율과 크기 조정.\n",
    "fig = sns.lmplot(data=df, x='weight', y='mpg', col='origin', hue='origin', markers=['o','v','^'], \n",
    "           scatter_kws={'s':20}, aspect=0.7, height=3)\n",
    "#fig.savefig(\"output.png\")"
   ]
  },
  {
   "cell_type": "markdown",
   "metadata": {},
   "source": [
    "#### 2. Color Palette:"
   ]
  },
  {
   "cell_type": "code",
   "execution_count": null,
   "metadata": {},
   "outputs": [],
   "source": [
    "# 도수분포표를 막대그림으로 나타냄.\n",
    "# 인자 x만 필요함.\n",
    "fig=sns.countplot(data=df, x='origin', palette='cubehelix')\n",
    "#fig=sns.countplot(data=df, x='origin', palette='coolwarm')\n",
    "#fig=sns.countplot(data=df, x='origin', palette='magma')\n",
    "#fig=sns.countplot(data=df, x='origin', palette='seismic')\n",
    "#fig.figure.savefig(\"output.png\")"
   ]
  },
  {
   "cell_type": "code",
   "execution_count": null,
   "metadata": {},
   "outputs": [],
   "source": []
  }
 ],
 "metadata": {
  "kernelspec": {
   "display_name": "Python 3",
   "language": "python",
   "name": "python3"
  },
  "language_info": {
   "codemirror_mode": {
    "name": "ipython",
    "version": 3
   },
   "file_extension": ".py",
   "mimetype": "text/x-python",
   "name": "python",
   "nbconvert_exporter": "python",
   "pygments_lexer": "ipython3",
   "version": "3.8.8"
  }
 },
 "nbformat": 4,
 "nbformat_minor": 2
}
