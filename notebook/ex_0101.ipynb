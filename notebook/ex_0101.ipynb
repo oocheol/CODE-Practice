{
 "cells": [
  {
   "cell_type": "markdown",
   "metadata": {},
   "source": [
    "### Seaborn 시각화  I"
   ]
  },
  {
   "cell_type": "code",
   "execution_count": null,
   "metadata": {},
   "outputs": [],
   "source": [
    "import pandas as pd\n",
    "import numpy as np\n",
    "import seaborn as sns\n",
    "import matplotlib.pyplot as plt\n",
    "%matplotlib inline"
   ]
  },
  {
   "cell_type": "code",
   "execution_count": null,
   "metadata": {},
   "outputs": [],
   "source": [
    "# 내장 데이터를 불러옴.\n",
    "df = sns.load_dataset('mpg')\n",
    "df.head(5)"
   ]
  },
  {
   "cell_type": "code",
   "execution_count": null,
   "metadata": {},
   "outputs": [],
   "source": [
    "df.shape"
   ]
  },
  {
   "cell_type": "markdown",
   "metadata": {},
   "source": [
    "#### 1. 히스토그램 , Rug , KDE:"
   ]
  },
  {
   "cell_type": "code",
   "execution_count": null,
   "metadata": {},
   "outputs": [],
   "source": [
    "# 히스토그램 기본형.\n",
    "# \"fig\"는 \"AxesSubplot\"이므로 .figure.savefig()을 호출하여 저장할 수 있다.\n",
    "fig = sns.histplot(data=df, x='mpg', bins=50, color='turquoise')\n",
    "# fig.figure.savefig(\"output.png\")"
   ]
  },
  {
   "cell_type": "code",
   "execution_count": null,
   "metadata": {},
   "outputs": [],
   "source": [
    "# 히스토그램 다른 방식.\n",
    "fig = sns.displot(data=df, x='mpg', kde=False, rug=False, bins=50, color='red', kind='hist')\n",
    "# fig.savefig(\"output.png\")"
   ]
  },
  {
   "cell_type": "code",
   "execution_count": null,
   "metadata": {},
   "outputs": [],
   "source": [
    "# 히스토그램 + KDE. \n",
    "fig = sns.displot(data=df, x='mpg', kde=True, rug=False, bins=50, color='green', kind='hist')    # KDE = Kernel Density Estimation.\n",
    "# fig.savefig(\"output.png\")"
   ]
  },
  {
   "cell_type": "code",
   "execution_count": null,
   "metadata": {},
   "outputs": [],
   "source": [
    "# 히스토그램 + Rug.\n",
    "fig = sns.displot(data=df, x='mpg', kde=False, rug=True, bins=50, color='blue', kind='hist')\n",
    "# fig.savefig(\"output.png\")"
   ]
  },
  {
   "cell_type": "code",
   "execution_count": null,
   "metadata": {},
   "outputs": [],
   "source": [
    "# KDE.\n",
    "fig = sns.displot(data=df,x='mpg' ,hue='origin' , kind='kde' ,aspect=1.5 ,height=3)\n",
    "# fig.savefig(\"output.png\")"
   ]
  },
  {
   "cell_type": "code",
   "execution_count": null,
   "metadata": {
    "scrolled": true
   },
   "outputs": [],
   "source": [
    "# KDE 다른 방식.\n",
    "fig = sns.kdeplot(data=df, x='mpg', hue='origin')\n",
    "# fig.figure.savefig(\"output.png\")"
   ]
  },
  {
   "cell_type": "markdown",
   "metadata": {},
   "source": [
    "#### 2. 산점도, 산점도 + 회귀선, Hex: "
   ]
  },
  {
   "cell_type": "code",
   "execution_count": null,
   "metadata": {},
   "outputs": [],
   "source": [
    "# 산점도 기본형.\n",
    "fig = sns.scatterplot(data=df, x='weight', y='mpg', color='red') \n",
    "# fig.figure.savefig(\"output.png\")"
   ]
  },
  {
   "cell_type": "code",
   "execution_count": null,
   "metadata": {},
   "outputs": [],
   "source": [
    "# 산점도 다른 방식.\n",
    "fig = sns.jointplot(data=df, x='weight', y='mpg', color='red', kind='scatter')\n",
    "# fig.savefig(\"output.png\")"
   ]
  },
  {
   "cell_type": "code",
   "execution_count": null,
   "metadata": {},
   "outputs": [],
   "source": [
    "# 산점도 + 회귀선.\n",
    "fig = sns.jointplot(data = df, x='weight', y='mpg', color='orange', kind='reg')\n",
    "# fig.savefig(\"output.png\")"
   ]
  },
  {
   "cell_type": "code",
   "execution_count": null,
   "metadata": {},
   "outputs": [],
   "source": [
    "# Hex.\n",
    "fig = sns.jointplot(data = df, x='weight', y='mpg', color='green', kind='hex')\n",
    "# fig.savefig(\"output.png\")"
   ]
  },
  {
   "cell_type": "code",
   "execution_count": null,
   "metadata": {},
   "outputs": [],
   "source": [
    "# KDE (Kernel Density Estimation).\n",
    "fig = sns.jointplot(data= df, x='weight', y='mpg', color='blue', kind='kde')\n",
    "# fig.savefig(\"output.png\")"
   ]
  },
  {
   "cell_type": "markdown",
   "metadata": {},
   "source": [
    "#### 3. 막대 그림 (Bar plot):"
   ]
  },
  {
   "cell_type": "code",
   "execution_count": null,
   "metadata": {},
   "outputs": [],
   "source": [
    "# 명목형 변수의 유형별 그룹지어서 연속형 변수의 평균을 구함.\n",
    "fig = sns.barplot(data=df, x='origin', y='mpg', ci=False)\n",
    "# fig.figure.savefig(\"output.png\")"
   ]
  },
  {
   "cell_type": "code",
   "execution_count": null,
   "metadata": {},
   "outputs": [],
   "source": [
    "# 명목형 변수의 유형별 그룹지어서 연속형 변수의 중위수을 구함.\n",
    "# estimator 에 통계 함수를 인자값으로 줄 수 있다. \n",
    "fig = sns.barplot(data=df, x='origin', y='mpg', estimator=np.median, ci=None)\n",
    "# fig.figure.savefig(\"output.png\")"
   ]
  },
  {
   "cell_type": "code",
   "execution_count": null,
   "metadata": {},
   "outputs": [],
   "source": [
    "# 도수분포표를 막대그림으로 나타냄.\n",
    "# 인자 x 하나만 필요함.\n",
    "fig = sns.countplot(data=df, x='origin', palette='coolwarm')\n",
    "# fig.figure.savefig(\"output.png\")"
   ]
  },
  {
   "cell_type": "code",
   "execution_count": null,
   "metadata": {},
   "outputs": [],
   "source": [
    "# 도수분포표를 막대그림으로 나타냄.\n",
    "# 또다른 변수를 인자 hue의 값으로 포함.\n",
    "# dodge 인자 오작동 (?).\n",
    "fig = sns.countplot(data=df, x='origin', hue='cylinders', palette='coolwarm')\n",
    "# fig.figure.savefig(\"output.png\")"
   ]
  },
  {
   "cell_type": "markdown",
   "metadata": {},
   "source": [
    "#### 4. 상자 그림 (Box plot), 바이올린 그림 (Violin plot), 유사 유형:"
   ]
  },
  {
   "cell_type": "code",
   "execution_count": null,
   "metadata": {},
   "outputs": [],
   "source": [
    "# 세로 방향 상자그림.\n",
    "fig = sns.boxplot(data=df, y='mpg', color='green')\n",
    "# fig.figure.savefig(\"output.png\")"
   ]
  },
  {
   "cell_type": "code",
   "execution_count": null,
   "metadata": {},
   "outputs": [],
   "source": [
    "# 가로 방향 상자그림.\n",
    "fig = sns.boxplot(data=df, x='mpg', color='pink')\n",
    "# fig.figure.savefig(\"output.png\")"
   ]
  },
  {
   "cell_type": "code",
   "execution_count": null,
   "metadata": {},
   "outputs": [],
   "source": [
    "# 다중 상자그림 (세로 방향).\n",
    "fig = sns.boxplot(data=df, x='origin', y='mpg', palette='coolwarm', notch=True)\n",
    "# fig.figure.savefig(\"output.png\")"
   ]
  },
  {
   "cell_type": "code",
   "execution_count": null,
   "metadata": {},
   "outputs": [],
   "source": [
    "# 다중 상자그림 (가로 방향).\n",
    "fig = sns.boxplot(data=df, x='mpg', y='origin', palette='coolwarm', notch=True)\n",
    "# fig.figure.savefig(\"output.png\")"
   ]
  },
  {
   "cell_type": "code",
   "execution_count": null,
   "metadata": {},
   "outputs": [],
   "source": [
    "# 다중 상자그림.\n",
    "# 인자 hue의 값으로 또 다른 변수 포함.\n",
    "fig = sns.boxplot(data=df, x='origin', y='mpg', hue='cylinders')\n",
    "# fig.figure.savefig(\"output.png\")"
   ]
  },
  {
   "cell_type": "code",
   "execution_count": null,
   "metadata": {},
   "outputs": [],
   "source": [
    "# 다중 바이올린 그림.\n",
    "# boxplot과 인자가 같음.\n",
    "fig = sns.violinplot(data=df, x='origin', y='mpg', palette='coolwarm')\n",
    "# fig.figure.savefig(\"output.png\")"
   ]
  },
  {
   "cell_type": "code",
   "execution_count": null,
   "metadata": {},
   "outputs": [],
   "source": [
    "# 다중 바이올린 그림.\n",
    "# boxplot과 인자가 같음.\n",
    "fig = sns.violinplot(data=df, x='cylinders', y='horsepower', palette='coolwarm')\n",
    "# fig.figure.savefig(\"output.png\")"
   ]
  },
  {
   "cell_type": "code",
   "execution_count": null,
   "metadata": {},
   "outputs": [],
   "source": [
    "# Strip plot.\n",
    "fig = sns.stripplot(data=df, x='cylinders', y='horsepower', palette='coolwarm', size=4)\n",
    "# fig.figure.savefig(\"output.png\")"
   ]
  },
  {
   "cell_type": "code",
   "execution_count": null,
   "metadata": {},
   "outputs": [],
   "source": [
    "# Swarm plot.\n",
    "fig = sns.swarmplot(data=df, x='cylinders', y='horsepower', palette='coolwarm', size=2)\n",
    "# fig.figure.savefig(\"output.png\")"
   ]
  },
  {
   "cell_type": "code",
   "execution_count": null,
   "metadata": {},
   "outputs": [],
   "source": [
    "# Violin plot + Smarm plot.\n",
    "sns.violinplot(data=df, x='origin', y='horsepower')\n",
    "fig = sns.swarmplot(data=df, x='origin', y='horsepower', color='black', size=3)\n",
    "# fig.figure.savefig(\"output.png\")"
   ]
  },
  {
   "cell_type": "code",
   "execution_count": null,
   "metadata": {},
   "outputs": [],
   "source": []
  }
 ],
 "metadata": {
  "kernelspec": {
   "display_name": "Python 3",
   "language": "python",
   "name": "python3"
  },
  "language_info": {
   "codemirror_mode": {
    "name": "ipython",
    "version": 3
   },
   "file_extension": ".py",
   "mimetype": "text/x-python",
   "name": "python",
   "nbconvert_exporter": "python",
   "pygments_lexer": "ipython3",
   "version": "3.8.8"
  }
 },
 "nbformat": 4,
 "nbformat_minor": 2
}
